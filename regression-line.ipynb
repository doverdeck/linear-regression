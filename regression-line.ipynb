{
 "cells": [
  {
   "cell_type": "code",
   "execution_count": 1,
   "id": "bfa820bc",
   "metadata": {
    "scrolled": true
   },
   "outputs": [
    {
     "ename": "NameError",
     "evalue": "name 'housing_data' is not defined",
     "output_type": "error",
     "traceback": [
      "\u001b[1;31m---------------------------------------------------------------------------\u001b[0m",
      "\u001b[1;31mNameError\u001b[0m                                 Traceback (most recent call last)",
      "\u001b[1;32m<ipython-input-1-67e65b5c221e>\u001b[0m in \u001b[0;36m<module>\u001b[1;34m\u001b[0m\n\u001b[1;32m----> 1\u001b[1;33m \u001b[0mhousing_data\u001b[0m\u001b[1;33m.\u001b[0m\u001b[0mdescribe\u001b[0m\u001b[1;33m(\u001b[0m\u001b[1;33m)\u001b[0m\u001b[1;33m\u001b[0m\u001b[1;33m\u001b[0m\u001b[0m\n\u001b[0m",
      "\u001b[1;31mNameError\u001b[0m: name 'housing_data' is not defined"
     ]
    }
   ],
   "source": [
    "housing_data.describe()"
   ]
  },
  {
   "cell_type": "code",
   "execution_count": 2,
   "id": "c9f7cc98",
   "metadata": {
    "scrolled": true
   },
   "outputs": [
    {
     "data": {
      "text/plain": [
       "<matplotlib.collections.PathCollection at 0x258a1ae1df0>"
      ]
     },
     "execution_count": 2,
     "metadata": {},
     "output_type": "execute_result"
    },
    {
     "data": {
      "image/png": "[encoded data removed]",
      "text/plain": [
       "<Figure size 432x288 with 1 Axes>"
      ]
     },
     "metadata": {
      "needs_background": "light"
     },
     "output_type": "display_data"
    }
   ],
   "source": [
    "import nasdaqdatalink\n",
    "import pandas as pd\n",
    "import matplotlib.pyplot as plt\n",
    "import numpy as np\n",
    "nasdaqdatalink.ApiConfig.api_key = \"rDox8AuYRSXvzmTHhhcC\"\n",
    "pd.set_option('display.max_columns', None)\n",
    "mydata = nasdaqdatalink.get_table('ZACKS/FC', ticker='AAPL')\n",
    "#gross_profit\n",
    "#eps_basic_net\n",
    "mydata1 = nasdaqdatalink.get_table('ZACKS/FC', ticker='MSFT')\n",
    "mydata2 = nasdaqdatalink.get_table('ZACKS/FC', ticker='GOOG')\n",
    "mydata3 = nasdaqdatalink.get_table('ZACKS/FC', ticker='AXP')\n",
    "mydata4 = nasdaqdatalink.get_table('ZACKS/FC', ticker='WMT')\n",
    "mydata5 = nasdaqdatalink.get_table('ZACKS/FC', ticker='CAT')\n",
    "mydata6 = nasdaqdatalink.get_table('ZACKS/FC', ticker='UNH')\n",
    "mydata7 = nasdaqdatalink.get_table('ZACKS/FC', ticker='JNJ')\n",
    "mydata8 = nasdaqdatalink.get_table('ZACKS/FC', ticker='BA')\n",
    "mydata9 = nasdaqdatalink.get_table('ZACKS/FC', ticker='V')\n",
    "combined_set=[mydata,mydata1,mydata2,mydata3,mydata4,mydata5,mydata6,mydata7,mydata8,mydata9]\n",
    "new_df = pd.concat(combined_set)\n",
    "y=new_df['gross_profit']\n",
    "x=new_df['eps_basic_net']\n",
    "m,b = np.polyfit(x, y, 1)\n",
    "y_1=m*x+b\n",
    "plt.plot(x,y_1)\n",
    "plt.scatter(new_df['eps_basic_net'], new_df['gross_profit'])"
   ]
  },
  {
   "cell_type": "code",
   "execution_count": null,
   "id": "2c82cf16",
   "metadata": {},
   "outputs": [],
   "source": [
    "new_df.describe()"
   ]
  },
  {
   "cell_type": "code",
   "execution_count": null,
   "id": "aea50d7e",
   "metadata": {},
   "outputs": [],
   "source": [
    "new_df.head()"
   ]
  },
  {
   "cell_type": "code",
   "execution_count": null,
   "id": "3fcbab77",
   "metadata": {},
   "outputs": [],
   "source": [
    "print(new_df)"
   ]
  }
 ],
 "metadata": {
  "kernelspec": {
   "display_name": "Python 3",
   "language": "python",
   "name": "python3"
  },
  "language_info": {
   "codemirror_mode": {
    "name": "ipython",
    "version": 3
   },
   "file_extension": ".py",
   "mimetype": "text/x-python",
   "name": "python",
   "nbconvert_exporter": "python",
   "pygments_lexer": "ipython3",
   "version": "3.8.8"
  }
 },
 "nbformat": 4,
 "nbformat_minor": 5
}
